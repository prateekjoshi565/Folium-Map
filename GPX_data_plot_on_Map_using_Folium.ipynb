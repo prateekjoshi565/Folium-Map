{
  "nbformat": 4,
  "nbformat_minor": 0,
  "metadata": {
    "colab": {
      "provenance": []
    },
    "kernelspec": {
      "name": "python3",
      "display_name": "Python 3"
    },
    "language_info": {
      "name": "python"
    }
  },
  "cells": [
    {
      "cell_type": "markdown",
      "source": [
        "# Plot Hiking Trail on Map"
      ],
      "metadata": {
        "id": "5Gq74u3TRDEA"
      }
    },
    {
      "cell_type": "code",
      "execution_count": null,
      "metadata": {
        "id": "Zj11p-LzQ5J8"
      },
      "outputs": [],
      "source": [
        "# install library\n",
        "!pip install gpxpy"
      ]
    },
    {
      "cell_type": "code",
      "source": [
        "import gpxpy\n",
        "import folium\n",
        "import pandas as pd\n",
        "import numpy as np\n",
        "import branca.colormap as cm"
      ],
      "metadata": {
        "id": "_6folz2IWxFv"
      },
      "execution_count": null,
      "outputs": []
    },
    {
      "cell_type": "markdown",
      "source": [
        "## Load data from GPX file"
      ],
      "metadata": {
        "id": "wFs6Gv2CRLL_"
      }
    },
    {
      "cell_type": "code",
      "source": [
        "gpx_file = \"Old Manali - Wayland Viewpoint Trail.gpx\"\n",
        "\n",
        "with open(gpx_file, 'r') as f:\n",
        "        gpx = gpxpy.parse(f)\n",
        "\n",
        "data = []\n",
        "for track in gpx.tracks:\n",
        "    for segment in track.segments:\n",
        "        for point in segment.points:\n",
        "            data.append({\n",
        "                'longitude': point.longitude,\n",
        "                'latitude': point.latitude,\n",
        "                'elevation': point.elevation\n",
        "            })\n",
        "\n",
        "# Create DataFrame\n",
        "df = pd.DataFrame(data)\n",
        "df = df.iloc[:round(df.shape[0]/2)]"
      ],
      "metadata": {
        "id": "i0wSpir9YRQl"
      },
      "execution_count": null,
      "outputs": []
    },
    {
      "cell_type": "code",
      "source": [
        "df.head()"
      ],
      "metadata": {
        "id": "alR5M-EBbORG"
      },
      "execution_count": null,
      "outputs": []
    },
    {
      "cell_type": "code",
      "source": [
        "df.shape"
      ],
      "metadata": {
        "id": "58IaoNz7WG83"
      },
      "execution_count": null,
      "outputs": []
    },
    {
      "cell_type": "markdown",
      "source": [
        "## Plot hiking trail on a map"
      ],
      "metadata": {
        "id": "k8FErkUTsRVT"
      }
    },
    {
      "cell_type": "code",
      "source": [
        "# Create a Folium Map centered around the start of the trail\n",
        "start_lat = df['latitude'].iloc[0]\n",
        "start_lon = df['longitude'].iloc[0]\n",
        "m = folium.Map(location=[start_lat, start_lon], zoom_start=13)\n",
        "\n",
        "# Add markers for the start and end points (optional but helpful)\n",
        "\n",
        "# Start marker\n",
        "folium.Marker(\n",
        "    location=[df['latitude'].iloc[0], df['longitude'].iloc[0]],\n",
        "    popup='Start of Trail',\n",
        "    icon=folium.Icon(color='green')\n",
        ").add_to(m)\n",
        "\n",
        "# End marker\n",
        "folium.Marker(\n",
        "    location=[df['latitude'].iloc[-1], df['longitude'].iloc[-1]],\n",
        "    popup='End of Trail',\n",
        "    icon=folium.Icon(color='red')\n",
        ").add_to(m)\n",
        "\n",
        "# Extract the coordinates for the trail line\n",
        "trail_coords = df[['latitude', 'longitude']].values.tolist()\n",
        "\n",
        "# Add the trail line to the map\n",
        "folium.PolyLine(\n",
        "    locations=trail_coords,\n",
        "    color='blue',\n",
        "    weight=2.5,\n",
        "    opacity=1\n",
        ").add_to(m)\n",
        "\n",
        "# 6. Display the map\n",
        "display(m)"
      ],
      "metadata": {
        "id": "xNB0R3CmbPHa"
      },
      "execution_count": null,
      "outputs": []
    },
    {
      "cell_type": "markdown",
      "source": [
        "## Plot trail with elevation data"
      ],
      "metadata": {
        "id": "pVcqUfJ1sIbi"
      }
    },
    {
      "cell_type": "code",
      "source": [
        "start_lat = df['latitude'].iloc[0]\n",
        "start_lon = df['longitude'].iloc[0]\n",
        "m = folium.Map(location=[start_lat, start_lon], zoom_start=13)"
      ],
      "metadata": {
        "id": "FBIq-kwMmG7-"
      },
      "execution_count": null,
      "outputs": []
    },
    {
      "cell_type": "code",
      "source": [
        "# Add markers\n",
        "folium.Marker(\n",
        "        location=[df['latitude'].iloc[0], df['longitude'].iloc[0]],\n",
        "        popup='Start of Trail (Elevation: {})'.format(df['elevation'].iloc[0]),\n",
        "        icon=folium.Icon(color='green')\n",
        "    ).add_to(m)\n",
        "\n",
        "folium.Marker(\n",
        "    location=[df['latitude'].iloc[-1], df['longitude'].iloc[-1]],\n",
        "    popup='End of Trail (Elevation: {})'.format(df['elevation'].iloc[-1]),\n",
        "    icon=folium.Icon(color='red')\n",
        ").add_to(m)"
      ],
      "metadata": {
        "id": "l6p0oQW_oVV6"
      },
      "execution_count": null,
      "outputs": []
    },
    {
      "cell_type": "code",
      "source": [
        "min_elevation = df['elevation'].min()\n",
        "max_elevation = df['elevation'].max()\n",
        "\n",
        "# Create a colormap (e.g., Viridis)\n",
        "# You can choose different colormaps from branca.colormap\n",
        "colormap = cm.LinearColormap(\n",
        "    ['blue', 'green', 'yellow', 'red'],  # Colors for low to high elevation\n",
        "    vmin=min_elevation,\n",
        "    vmax=max_elevation\n",
        ")\n",
        "\n",
        "# Add the colormap legend to the map\n",
        "#colormap.add_to(m, position='topright')\n",
        "m.add_child(colormap)\n",
        "\n",
        "# Iterate through the trail points and draw colored segments\n",
        "for i in range(len(df) - 1):\n",
        "    # Get the coordinates of the current and next point\n",
        "    start_coords = [df['latitude'].iloc[i], df['longitude'].iloc[i]]\n",
        "    end_coords = [df['latitude'].iloc[i+1], df['longitude'].iloc[i+1]]\n",
        "\n",
        "    # Get the elevation at the starting point of the segment\n",
        "    segment_elevation = df['elevation'].iloc[i]\n",
        "\n",
        "    # Get the color for this elevation from the colormap\n",
        "    segment_color = colormap(segment_elevation)\n",
        "\n",
        "    # Draw a PolyLine segment with the calculated color\n",
        "    folium.PolyLine(\n",
        "        locations=[start_coords, end_coords],\n",
        "        color=segment_color,\n",
        "        weight=5.5,\n",
        "        opacity=1,\n",
        "        popup=f\"Elevation: {segment_elevation:.1f}\" # Optional popup for segment elevation\n",
        "    ).add_to(m)\n",
        "\n",
        "display(m)"
      ],
      "metadata": {
        "id": "XjX7WE4xonFU"
      },
      "execution_count": null,
      "outputs": []
    }
  ]
}